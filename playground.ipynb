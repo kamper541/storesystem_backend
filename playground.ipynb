{
 "cells": [
  {
   "cell_type": "code",
   "execution_count": 9,
   "metadata": {},
   "outputs": [
    {
     "name": "stdout",
     "output_type": "stream",
     "text": [
      "dict_keys(['Detail', 'JM_ID', 'Unit_price', 'Barcode_ID', 'piece', 'Discounted', 'QT', 'Cost', 'code'])\n"
     ]
    }
   ],
   "source": [
    "import json\n",
    "\n",
    "f = open('Stock.json')\n",
    "\n",
    "data = json.load(f)\n",
    "data['0'].pop('index')\n",
    "print(data['0'].keys())"
   ]
  },
  {
   "cell_type": "code",
   "execution_count": 7,
   "metadata": {},
   "outputs": [],
   "source": [
    "import json\n",
    "\n",
    "f = open('Customers.json')\n",
    "\n",
    "data = json.load(f)\n",
    "cust_dict = {}\n",
    "for i in data.keys():\n",
    "    rec = {k.lower():v for k,v in data[i].items()}\n",
    "    rec['country'] = {\n",
    "                \"name\": \"United States\",\n",
    "                \"code\": \"us\"\n",
    "                }\n",
    "    rec['verified'] = True\n",
    "    rec['date'] = \"2023-12-25\"\n",
    "    rec['status'] = \"qualified\"\n",
    "    cust_dict[rec['id']] = rec\n",
    "\n",
    "with open(\"customers_transformed.json\", \"w\") as outfile: \n",
    "    json.dump(cust_dict, outfile)"
   ]
  },
  {
   "cell_type": "code",
   "execution_count": null,
   "metadata": {},
   "outputs": [],
   "source": [
    "import json\n",
    "\n",
    "f = open('Customers.json')\n",
    "\n",
    "data = json.load(f)\n",
    "inv_dict = {}\n"
   ]
  }
 ],
 "metadata": {
  "kernelspec": {
   "display_name": "Python 3",
   "language": "python",
   "name": "python3"
  },
  "language_info": {
   "codemirror_mode": {
    "name": "ipython",
    "version": 3
   },
   "file_extension": ".py",
   "mimetype": "text/x-python",
   "name": "python",
   "nbconvert_exporter": "python",
   "pygments_lexer": "ipython3",
   "version": "3.9.6"
  },
  "orig_nbformat": 4
 },
 "nbformat": 4,
 "nbformat_minor": 2
}
